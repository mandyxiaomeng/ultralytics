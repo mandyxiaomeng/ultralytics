{
 "cells": [
  {
   "cell_type": "code",
   "execution_count": 10,
   "metadata": {},
   "outputs": [
    {
     "name": "stdout",
     "output_type": "stream",
     "text": [
      "CompletedProcess(args='yolo task=detect mode=predict model=./runs/detect/Results_l/train123_l/weights/best.pt conf=0.010101010101010102 source=../Datasets/DX_uncleangear_research-2/valid/images save=False workers=0', returncode=0, stdout='', stderr='Ultralytics YOLOv8.0.24  Python-3.8.0 torch-1.8.2+cu111 CUDA:0 (NVIDIA GeForce RTX 2080, 8192MiB)\n",
      "Model summary (fused): 268 layers, 43607379 parameters, 0 gradients, 164.8 GFLOPs\n",
      "\n",
      "image 1/29 C:\\Mandy\\Scania project\\Roboflow\\Datasets\\DX_uncleangear_research-2\\valid\\images\\0_1_jpg.rf.03006e329dab0e525b133271933a171e.jpg: 640x640 41.9ms\n",
      "image 2/29 C:\\Mandy\\Scania project\\Roboflow\\Datasets\\DX_uncleangear_research-2\\valid\\images\\0_2_jpg.rf.4c6eb618fb5f73cc88e1d98b946cdf23.jpg: 640x640 41.9ms\n",
      "image 3/29 C:\\Mandy\\Scania project\\Roboflow\\Datasets\\DX_uncleangear_research-2\\valid\\images\\0_3_jpg.rf.e3d23cd8b08d3cc2a9e7ff35a40fc6a6.jpg: 640x640 37.9ms\n",
      "image 4/29 C:\\Mandy\\Scania project\\Roboflow\\Datasets\\DX_uncleangear_research-2\\valid\\images\\WIN_20220323_12_42_06_Pro_jpg.rf.abca83da1c516114d0a4b373dad2ea26.jpg: 640x640 8 uncleans, 34.9ms\n",
      "image 5/29 C:\\Mandy\\Scania project\\Roboflow\\Datasets\\DX_uncleangear_research-2\\valid\\images\\WIN_20220323_12_44_28_Pro_jpg.rf.ce397470e152a1757245a56afa7d4f0e.jpg: 640x640 4 uncleans, 34.9ms\n",
      "image 6/29 C:\\Mandy\\Scania project\\Roboflow\\Datasets\\DX_uncleangear_research-2\\valid\\images\\WIN_20220323_12_47_45_Pro_jpg.rf.1a471fce9ea47c03cf503cc40e78318a.jpg: 640x640 34.9ms\n",
      "image 7/29 C:\\Mandy\\Scania project\\Roboflow\\Datasets\\DX_uncleangear_research-2\\valid\\images\\WIN_20220323_12_48_23_Pro_jpg.rf.57ee12f3808a97afc800d00c5eeaa80e.jpg: 640x640 34.9ms\n",
      "image 8/29 C:\\Mandy\\Scania project\\Roboflow\\Datasets\\DX_uncleangear_research-2\\valid\\images\\WIN_20220323_12_48_31_Pro_jpg.rf.63c5440d8404d5940fa4630675f0b156.jpg: 640x640 33.9ms\n",
      "image 9/29 C:\\Mandy\\Scania project\\Roboflow\\Datasets\\DX_uncleangear_research-2\\valid\\images\\WIN_20220323_12_51_32_Pro_jpg.rf.6b8f350090e44cccbce7ad87fca13b2a.jpg: 640x640 7 uncleans, 33.9ms\n",
      "image 10/29 C:\\Mandy\\Scania project\\Roboflow\\Datasets\\DX_uncleangear_research-2\\valid\\images\\WIN_20220323_12_52_18_Pro_jpg.rf.8e4a5fbf2ef1e53d173329bf48fa1f96.jpg: 640x640 3 uncleans, 33.9ms\n",
      "image 11/29 C:\\Mandy\\Scania project\\Roboflow\\Datasets\\DX_uncleangear_research-2\\valid\\images\\WIN_20220323_13_28_43_Pro_jpg.rf.cb2e648f992655d8df481f9f0c307e81.jpg: 640x640 3 uncleans, 33.9ms\n",
      "image 12/29 C:\\Mandy\\Scania project\\Roboflow\\Datasets\\DX_uncleangear_research-2\\valid\\images\\WIN_20220323_13_30_08_Pro_jpg.rf.d5c08ebc47cee97c66a74800ad130f55.jpg: 640x640 3 uncleans, 34.9ms\n",
      "image 13/29 C:\\Mandy\\Scania project\\Roboflow\\Datasets\\DX_uncleangear_research-2\\valid\\images\\WIN_20220323_13_32_58_Pro_jpg.rf.3576f0eacbade07bba863f1fddac2068.jpg: 640x640 2 uncleans, 34.9ms\n",
      "image 14/29 C:\\Mandy\\Scania project\\Roboflow\\Datasets\\DX_uncleangear_research-2\\valid\\images\\WIN_20220323_13_33_06_Pro_jpg.rf.d106a393150a730d96bf3cefdba800f1.jpg: 640x640 3 uncleans, 34.9ms\n",
      "image 15/29 C:\\Mandy\\Scania project\\Roboflow\\Datasets\\DX_uncleangear_research-2\\valid\\images\\WIN_20220323_13_33_18_Pro_jpg.rf.98a0f1dbb14c91c5d12a55a3ad00f700.jpg: 640x640 2 uncleans, 34.9ms\n",
      "image 16/29 C:\\Mandy\\Scania project\\Roboflow\\Datasets\\DX_uncleangear_research-2\\valid\\images\\WIN_20220323_13_33_35_Pro_jpg.rf.7fa5e292846f7a1da1e13c07ed2c0681.jpg: 640x640 34.9ms\n",
      "image 17/29 C:\\Mandy\\Scania project\\Roboflow\\Datasets\\DX_uncleangear_research-2\\valid\\images\\WIN_20220323_13_40_53_Pro_jpg.rf.15e85da422271078277a59fcba309c77.jpg: 640x640 33.9ms\n",
      "image 18/29 C:\\Mandy\\Scania project\\Roboflow\\Datasets\\DX_uncleangear_research-2\\valid\\images\\WIN_20220323_13_43_32_Pro_jpg.rf.68254e6e0cbde6d77339cb0a3f6b78d2.jpg: 640x640 4 uncleans, 34.9ms\n",
      "image 19/29 C:\\Mandy\\Scania project\\Roboflow\\Datasets\\DX_uncleangear_research-2\\valid\\images\\WIN_20220323_13_44_06_Pro_jpg.rf.d45cd7767de293d43e3714a16cc768ea.jpg: 640x640 1 unclean, 33.9ms\n",
      "image 20/29 C:\\Mandy\\Scania project\\Roboflow\\Datasets\\DX_uncleangear_research-2\\valid\\images\\WIN_20220323_13_46_32_Pro_jpg.rf.bb5522a2672d1b2b72ff47230feacde4.jpg: 640x640 3 uncleans, 33.9ms\n",
      "image 21/29 C:\\Mandy\\Scania project\\Roboflow\\Datasets\\DX_uncleangear_research-2\\valid\\images\\WIN_20220323_13_48_26_Pro_jpg.rf.c3f24d9fec50e62b5dab06a1ff485a88.jpg: 640x640 1 unclean, 33.9ms\n",
      "image 22/29 C:\\Mandy\\Scania project\\Roboflow\\Datasets\\DX_uncleangear_research-2\\valid\\images\\WIN_20220323_17_03_18_Pro_jpg.rf.2c8ab74c0911a1c4c987c1adaf3152b2.jpg: 640x640 3 uncleans, 34.9ms\n",
      "image 23/29 C:\\Mandy\\Scania project\\Roboflow\\Datasets\\DX_uncleangear_research-2\\valid\\images\\WIN_20220323_17_03_26_Pro_jpg.rf.56f18805920056654871a38dd50c928e.jpg: 640x640 1 unclean, 34.9ms\n",
      "image 24/29 C:\\Mandy\\Scania project\\Roboflow\\Datasets\\DX_uncleangear_research-2\\valid\\images\\WIN_20220323_17_04_10_Pro_jpg.rf.8557defa6bd86c3f37c69791379838da.jpg: 640x640 2 uncleans, 34.9ms\n",
      "image 25/29 C:\\Mandy\\Scania project\\Roboflow\\Datasets\\DX_uncleangear_research-2\\valid\\images\\WIN_20220323_17_04_25_Pro_jpg.rf.3df6fe6376f83331734272f4f20d5c9d.jpg: 640x640 1 unclean, 34.9ms\n",
      "image 26/29 C:\\Mandy\\Scania project\\Roboflow\\Datasets\\DX_uncleangear_research-2\\valid\\images\\WIN_20220323_17_04_55_Pro_jpg.rf.27a2a91c0caa8f45a5a618c1c2b044a2.jpg: 640x640 33.9ms\n",
      "image 27/29 C:\\Mandy\\Scania project\\Roboflow\\Datasets\\DX_uncleangear_research-2\\valid\\images\\WIN_20220324_14_36_09_Pro_jpg.rf.72a1eebb28d43f7607c7dcebf262d3bb.jpg: 640x640 5 uncleans, 34.9ms\n",
      "image 28/29 C:\\Mandy\\Scania project\\Roboflow\\Datasets\\DX_uncleangear_research-2\\valid\\images\\WIN_20220324_14_36_39_Pro_jpg.rf.11292e3a28961e796d8368579ad038cc.jpg: 640x640 2 uncleans, 34.9ms\n",
      "image 29/29 C:\\Mandy\\Scania project\\Roboflow\\Datasets\\DX_uncleangear_research-2\\valid\\images\\WIN_20220324_14_36_45_Pro_jpg.rf.53be1758f846416da226c744d39bebc2.jpg: 640x640 33.9ms\n",
      "Speed: 0.6ms pre-process, 35.1ms inference, 1.5ms postprocess per image at shape (1, 3, 640, 640)\n",
      "')   \n",
      "[]\n"
     ]
    }
   ],
   "source": [
    "import re\n",
    "\n",
    "string = \"CompletedProcess(args='yolo task=detect mode=predict model=./runs/detect/Results_l/train123_l/weights/best.pt conf=0.010101010101010102 source=../Datasets/DX_uncleangear_research-2/valid/images save=False workers=0', returncode=0, stdout='', stderr='Ultralytics YOLOv8.0.24  Python-3.8.0 torch-1.8.2+cu111 CUDA:0 (NVIDIA GeForce RTX 2080, 8192MiB)\\nModel summary (fused): 268 layers, 43607379 parameters, 0 gradients, 164.8 GFLOPs\\n\\nimage 1/29 C:\\\\Mandy\\\\Scania project\\\\Roboflow\\\\Datasets\\\\DX_uncleangear_research-2\\\\valid\\\\images\\\\0_1_jpg.rf.03006e329dab0e525b133271933a171e.jpg: 640x640 41.9ms\\nimage 2/29 C:\\\\Mandy\\\\Scania project\\\\Roboflow\\\\Datasets\\\\DX_uncleangear_research-2\\\\valid\\\\images\\\\0_2_jpg.rf.4c6eb618fb5f73cc88e1d98b946cdf23.jpg: 640x640 41.9ms\\nimage 3/29 C:\\\\Mandy\\\\Scania project\\\\Roboflow\\\\Datasets\\\\DX_uncleangear_research-2\\\\valid\\\\images\\\\0_3_jpg.rf.e3d23cd8b08d3cc2a9e7ff35a40fc6a6.jpg: 640x640 37.9ms\\nimage 4/29 C:\\\\Mandy\\\\Scania project\\\\Roboflow\\\\Datasets\\\\DX_uncleangear_research-2\\\\valid\\\\images\\\\WIN_20220323_12_42_06_Pro_jpg.rf.abca83da1c516114d0a4b373dad2ea26.jpg: 640x640 8 uncleans, 34.9ms\\nimage 5/29 C:\\\\Mandy\\\\Scania project\\\\Roboflow\\\\Datasets\\\\DX_uncleangear_research-2\\\\valid\\\\images\\\\WIN_20220323_12_44_28_Pro_jpg.rf.ce397470e152a1757245a56afa7d4f0e.jpg: 640x640 4 uncleans, 34.9ms\\nimage 6/29 C:\\\\Mandy\\\\Scania project\\\\Roboflow\\\\Datasets\\\\DX_uncleangear_research-2\\\\valid\\\\images\\\\WIN_20220323_12_47_45_Pro_jpg.rf.1a471fce9ea47c03cf503cc40e78318a.jpg: 640x640 34.9ms\\nimage 7/29 C:\\\\Mandy\\\\Scania project\\\\Roboflow\\\\Datasets\\\\DX_uncleangear_research-2\\\\valid\\\\images\\\\WIN_20220323_12_48_23_Pro_jpg.rf.57ee12f3808a97afc800d00c5eeaa80e.jpg: 640x640 34.9ms\\nimage 8/29 C:\\\\Mandy\\\\Scania project\\\\Roboflow\\\\Datasets\\\\DX_uncleangear_research-2\\\\valid\\\\images\\\\WIN_20220323_12_48_31_Pro_jpg.rf.63c5440d8404d5940fa4630675f0b156.jpg: 640x640 33.9ms\\nimage 9/29 C:\\\\Mandy\\\\Scania project\\\\Roboflow\\\\Datasets\\\\DX_uncleangear_research-2\\\\valid\\\\images\\\\WIN_20220323_12_51_32_Pro_jpg.rf.6b8f350090e44cccbce7ad87fca13b2a.jpg: 640x640 7 uncleans, 33.9ms\\nimage 10/29 C:\\\\Mandy\\\\Scania project\\\\Roboflow\\\\Datasets\\\\DX_uncleangear_research-2\\\\valid\\\\images\\\\WIN_20220323_12_52_18_Pro_jpg.rf.8e4a5fbf2ef1e53d173329bf48fa1f96.jpg: 640x640 3 uncleans, 33.9ms\\nimage 11/29 C:\\\\Mandy\\\\Scania project\\\\Roboflow\\\\Datasets\\\\DX_uncleangear_research-2\\\\valid\\\\images\\\\WIN_20220323_13_28_43_Pro_jpg.rf.cb2e648f992655d8df481f9f0c307e81.jpg: 640x640 3 uncleans, 33.9ms\\nimage 12/29 C:\\\\Mandy\\\\Scania project\\\\Roboflow\\\\Datasets\\\\DX_uncleangear_research-2\\\\valid\\\\images\\\\WIN_20220323_13_30_08_Pro_jpg.rf.d5c08ebc47cee97c66a74800ad130f55.jpg: 640x640 3 uncleans, 34.9ms\\nimage 13/29 C:\\\\Mandy\\\\Scania project\\\\Roboflow\\\\Datasets\\\\DX_uncleangear_research-2\\\\valid\\\\images\\\\WIN_20220323_13_32_58_Pro_jpg.rf.3576f0eacbade07bba863f1fddac2068.jpg: 640x640 2 uncleans, 34.9ms\\nimage 14/29 C:\\\\Mandy\\\\Scania project\\\\Roboflow\\\\Datasets\\\\DX_uncleangear_research-2\\\\valid\\\\images\\\\WIN_20220323_13_33_06_Pro_jpg.rf.d106a393150a730d96bf3cefdba800f1.jpg: 640x640 3 uncleans, 34.9ms\\nimage 15/29 C:\\\\Mandy\\\\Scania project\\\\Roboflow\\\\Datasets\\\\DX_uncleangear_research-2\\\\valid\\\\images\\\\WIN_20220323_13_33_18_Pro_jpg.rf.98a0f1dbb14c91c5d12a55a3ad00f700.jpg: 640x640 2 uncleans, 34.9ms\\nimage 16/29 C:\\\\Mandy\\\\Scania project\\\\Roboflow\\\\Datasets\\\\DX_uncleangear_research-2\\\\valid\\\\images\\\\WIN_20220323_13_33_35_Pro_jpg.rf.7fa5e292846f7a1da1e13c07ed2c0681.jpg: 640x640 34.9ms\\nimage 17/29 C:\\\\Mandy\\\\Scania project\\\\Roboflow\\\\Datasets\\\\DX_uncleangear_research-2\\\\valid\\\\images\\\\WIN_20220323_13_40_53_Pro_jpg.rf.15e85da422271078277a59fcba309c77.jpg: 640x640 33.9ms\\nimage 18/29 C:\\\\Mandy\\\\Scania project\\\\Roboflow\\\\Datasets\\\\DX_uncleangear_research-2\\\\valid\\\\images\\\\WIN_20220323_13_43_32_Pro_jpg.rf.68254e6e0cbde6d77339cb0a3f6b78d2.jpg: 640x640 4 uncleans, 34.9ms\\nimage 19/29 C:\\\\Mandy\\\\Scania project\\\\Roboflow\\\\Datasets\\\\DX_uncleangear_research-2\\\\valid\\\\images\\\\WIN_20220323_13_44_06_Pro_jpg.rf.d45cd7767de293d43e3714a16cc768ea.jpg: 640x640 1 unclean, 33.9ms\\nimage 20/29 C:\\\\Mandy\\\\Scania project\\\\Roboflow\\\\Datasets\\\\DX_uncleangear_research-2\\\\valid\\\\images\\\\WIN_20220323_13_46_32_Pro_jpg.rf.bb5522a2672d1b2b72ff47230feacde4.jpg: 640x640 3 uncleans, 33.9ms\\nimage 21/29 C:\\\\Mandy\\\\Scania project\\\\Roboflow\\\\Datasets\\\\DX_uncleangear_research-2\\\\valid\\\\images\\\\WIN_20220323_13_48_26_Pro_jpg.rf.c3f24d9fec50e62b5dab06a1ff485a88.jpg: 640x640 1 unclean, 33.9ms\\nimage 22/29 C:\\\\Mandy\\\\Scania project\\\\Roboflow\\\\Datasets\\\\DX_uncleangear_research-2\\\\valid\\\\images\\\\WIN_20220323_17_03_18_Pro_jpg.rf.2c8ab74c0911a1c4c987c1adaf3152b2.jpg: 640x640 3 uncleans, 34.9ms\\nimage 23/29 C:\\\\Mandy\\\\Scania project\\\\Roboflow\\\\Datasets\\\\DX_uncleangear_research-2\\\\valid\\\\images\\\\WIN_20220323_17_03_26_Pro_jpg.rf.56f18805920056654871a38dd50c928e.jpg: 640x640 1 unclean, 34.9ms\\nimage 24/29 C:\\\\Mandy\\\\Scania project\\\\Roboflow\\\\Datasets\\\\DX_uncleangear_research-2\\\\valid\\\\images\\\\WIN_20220323_17_04_10_Pro_jpg.rf.8557defa6bd86c3f37c69791379838da.jpg: 640x640 2 uncleans, 34.9ms\\nimage 25/29 C:\\\\Mandy\\\\Scania project\\\\Roboflow\\\\Datasets\\\\DX_uncleangear_research-2\\\\valid\\\\images\\\\WIN_20220323_17_04_25_Pro_jpg.rf.3df6fe6376f83331734272f4f20d5c9d.jpg: 640x640 1 unclean, 34.9ms\\nimage 26/29 C:\\\\Mandy\\\\Scania project\\\\Roboflow\\\\Datasets\\\\DX_uncleangear_research-2\\\\valid\\\\images\\\\WIN_20220323_17_04_55_Pro_jpg.rf.27a2a91c0caa8f45a5a618c1c2b044a2.jpg: 640x640 33.9ms\\nimage 27/29 C:\\\\Mandy\\\\Scania project\\\\Roboflow\\\\Datasets\\\\DX_uncleangear_research-2\\\\valid\\\\images\\\\WIN_20220324_14_36_09_Pro_jpg.rf.72a1eebb28d43f7607c7dcebf262d3bb.jpg: 640x640 5 uncleans, 34.9ms\\nimage 28/29 C:\\\\Mandy\\\\Scania project\\\\Roboflow\\\\Datasets\\\\DX_uncleangear_research-2\\\\valid\\\\images\\\\WIN_20220324_14_36_39_Pro_jpg.rf.11292e3a28961e796d8368579ad038cc.jpg: 640x640 2 uncleans, 34.9ms\\nimage 29/29 C:\\\\Mandy\\\\Scania project\\\\Roboflow\\\\Datasets\\\\DX_uncleangear_research-2\\\\valid\\\\images\\\\WIN_20220324_14_36_45_Pro_jpg.rf.53be1758f846416da226c744d39bebc2.jpg: 640x640 33.9ms\\nSpeed: 0.6ms pre-process, 35.1ms inference, 1.5ms postprocess per image at shape (1, 3, 640, 640)\\n')   \"\n",
    "print (string)\n",
    "matches = re.findall(r\"image.*ms\", string, re.DOTALL)\n",
    "print(matches)"
   ]
  },
  {
   "cell_type": "code",
   "execution_count": null,
   "metadata": {},
   "outputs": [],
   "source": []
  },
  {
   "cell_type": "code",
   "execution_count": null,
   "metadata": {},
   "outputs": [],
   "source": []
  }
 ],
 "metadata": {
  "kernelspec": {
   "display_name": "base",
   "language": "python",
   "name": "python3"
  },
  "language_info": {
   "codemirror_mode": {
    "name": "ipython",
    "version": 3
   },
   "file_extension": ".py",
   "mimetype": "text/x-python",
   "name": "python",
   "nbconvert_exporter": "python",
   "pygments_lexer": "ipython3",
   "version": "3.8.3"
  },
  "orig_nbformat": 4,
  "vscode": {
   "interpreter": {
    "hash": "657d7d8d74266ea42ab9d057e2875f27ceccec09428577f227afb4724ab89341"
   }
  }
 },
 "nbformat": 4,
 "nbformat_minor": 2
}
